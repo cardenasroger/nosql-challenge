{
 "cells": [
  {
   "cell_type": "markdown",
   "id": "9a57c4c6",
   "metadata": {},
   "source": [
    "# Eat Safe, Love"
   ]
  },
  {
   "cell_type": "markdown",
   "id": "064ef857",
   "metadata": {},
   "source": [
    "## Notebook Set Up"
   ]
  },
  {
   "cell_type": "code",
   "execution_count": 121,
   "id": "7ba88eef-e1a9-40b5-a539-3e0879d47541",
   "metadata": {
    "scrolled": true
   },
   "outputs": [
    {
     "name": "stdout",
     "output_type": "stream",
     "text": [
      "Requirement already satisfied: pymongo in c:\\users\\carde\\anaconda3\\lib\\site-packages (4.10.1)\n",
      "Requirement already satisfied: dnspython<3.0.0,>=1.16.0 in c:\\users\\carde\\anaconda3\\lib\\site-packages (from pymongo) (2.7.0)\n"
     ]
    }
   ],
   "source": [
    "!pip install pymongo"
   ]
  },
  {
   "cell_type": "code",
   "execution_count": 122,
   "id": "6ecec522-d27d-469f-a645-84597ac2f972",
   "metadata": {},
   "outputs": [
    {
     "name": "stdout",
     "output_type": "stream",
     "text": [
      "4.10.1\n"
     ]
    }
   ],
   "source": [
    "import pymongo\n",
    "print(pymongo.__version__)"
   ]
  },
  {
   "cell_type": "code",
   "execution_count": 123,
   "id": "3ecdd008",
   "metadata": {},
   "outputs": [],
   "source": [
    "from pymongo import MongoClient\n",
    "import pandas as pd\n",
    "from pprint import pprint"
   ]
  },
  {
   "cell_type": "code",
   "execution_count": 124,
   "id": "59390c4a",
   "metadata": {},
   "outputs": [],
   "source": [
    "# Create an instance of MongoClient\n",
    "mongo = MongoClient(port=27017)"
   ]
  },
  {
   "cell_type": "code",
   "execution_count": 125,
   "id": "259e0609-634d-48bc-8eea-115e64135eb6",
   "metadata": {},
   "outputs": [],
   "source": [
    "# assign the uk_food database to a variable name\n",
    "db = mongo['uk_food']"
   ]
  },
  {
   "cell_type": "code",
   "execution_count": 126,
   "id": "18ab463c",
   "metadata": {},
   "outputs": [
    {
     "name": "stdout",
     "output_type": "stream",
     "text": [
      "[]\n"
     ]
    }
   ],
   "source": [
    "# review the collections in our database\n",
    "print(db.list_collection_names())"
   ]
  },
  {
   "cell_type": "code",
   "execution_count": 127,
   "id": "d5923d6a-8f72-49c4-9033-fd781a376e59",
   "metadata": {},
   "outputs": [],
   "source": [
    "# assign the collection to a variable\n",
    "establishments = db['establishments']"
   ]
  },
  {
   "cell_type": "markdown",
   "id": "d5671434",
   "metadata": {},
   "source": [
    "## Part 3: Exploratory Analysis\n",
    "Unless otherwise stated, for each question: \n",
    "* Use `count_documents` to display the number of documents contained in the result.\n",
    "* Display the first document in the results using `pprint`.\n",
    "* Convert the result to a Pandas DataFrame, print the number of rows in the DataFrame, and display the first 10 rows."
   ]
  },
  {
   "cell_type": "markdown",
   "id": "314bd884",
   "metadata": {},
   "source": [
    "### 1. Which establishments have a hygiene score equal to 20?"
   ]
  },
  {
   "cell_type": "code",
   "execution_count": 137,
   "id": "c2da7648",
   "metadata": {},
   "outputs": [
    {
     "name": "stdout",
     "output_type": "stream",
     "text": [
      "Connected to database: my_database\n",
      "Collections in database: ['my_collection', 'your_collection_name', 'establishments']\n",
      "\n",
      "'.establishments' collection already exists.\n",
      "\n",
      "First 5 documents in collection:\n",
      "{'_id': ObjectId('6789bdca2d56cf1385420f07'),\n",
      " 'hygiene_score': 20,\n",
      " 'name': 'Restaurant A',\n",
      " 'other_field': 'value'}\n",
      "{'_id': ObjectId('6789bdca2d56cf1385420f08'),\n",
      " 'hygiene_score': 18,\n",
      " 'name': 'Restaurant B',\n",
      " 'other_field': 'value'}\n",
      "{'_id': ObjectId('6789bdca2d56cf1385420f09'),\n",
      " 'hygiene_score': 16,\n",
      " 'name': 'Restaurant C',\n",
      " 'other_field': 'value'}\n",
      "{'_id': ObjectId('6789bdca2d56cf1385420f0a'),\n",
      " 'hygiene_score': 20,\n",
      " 'name': 'Restaurant D',\n",
      " 'other_field': 'value'}\n",
      "{'_id': ObjectId('6789bdca2d56cf1385420f0b'),\n",
      " 'hygiene_score': 20,\n",
      " 'name': 'Restaurant E',\n",
      " 'other_field': 'value'}\n",
      "\n",
      "Distinct hygiene_score values: [15, 16, 17, 18, 19, 20]\n",
      "\n",
      "7 --> There are 7 documents with a hygiene score of 20.\n",
      "\n",
      "\n",
      "First document with hygiene_score = 20:\n",
      "{'_id': ObjectId('6789bdca2d56cf1385420f07'),\n",
      " 'hygiene_score': 20,\n",
      " 'name': 'Restaurant A',\n",
      " 'other_field': 'value'}\n"
     ]
    }
   ],
   "source": [
    "from pymongo import MongoClient\n",
    "from pprint import pprint\n",
    "\n",
    "# 1. Connect to MongoDB\n",
    "client = MongoClient(\"mongodb://localhost:27017/\")  # Adjust the connection string as needed\n",
    "\n",
    "# 2. Select the database\n",
    "db = client[\"my_database\"]  # Replace with your actual database name\n",
    "print(f\"Connected to database: {db.name}\")\n",
    "\n",
    "# 3. Check if the 'establishments' collection exists\n",
    "collections = db.list_collection_names()\n",
    "print(f\"Collections in database: {collections}\")\n",
    "\n",
    "# 4. If the 'establishments' collection doesn't exist, insert some sample data\n",
    "if \"establishments\" not in collections:\n",
    "    # Insert sample data into the 'establishments' collection\n",
    "    sample_data = [\n",
    "        {\"name\": \"Restaurant A\", \"hygiene_score\": 20, \"other_field\": \"value\"},\n",
    "        {\"name\": \"Restaurant B\", \"hygiene_score\": 18, \"other_field\": \"value\"},\n",
    "        {\"name\": \"Restaurant C\", \"hygiene_score\": 16, \"other_field\": \"value\"},\n",
    "        {\"name\": \"Restaurant D\", \"hygiene_score\": 20, \"other_field\": \"value\"},\n",
    "        {\"name\": \"Restaurant E\", \"hygiene_score\": 20, \"other_field\": \"value\"}\n",
    "    ]\n",
    "    \n",
    "    # Insert data into the collection\n",
    "    establishments = db[\"establishments\"]\n",
    "    establishments.insert_many(sample_data)\n",
    "    print(\"\\nSample data inserted into the 'establishments' collection.\")\n",
    "else:\n",
    "    establishments = db[\"establishments\"]\n",
    "    print(\"\\n'.establishments' collection already exists.\")\n",
    "\n",
    "# 5. Check the first 5 documents in the collection\n",
    "results = list(establishments.find().limit(5))\n",
    "print(\"\\nFirst 5 documents in collection:\")\n",
    "for doc in results:\n",
    "    pprint(doc)\n",
    "\n",
    "# 6. Check distinct values for 'hygiene_score' field\n",
    "distinct_scores = establishments.distinct(\"hygiene_score\")\n",
    "print(f\"\\nDistinct hygiene_score values: {distinct_scores}\")\n",
    "\n",
    "# 7. Query for hygiene_score == 20\n",
    "query = {\"hygiene_score\": 20}\n",
    "hygiene_20 = establishments.count_documents(query)\n",
    "print(f\"\\n{hygiene_20} --> There are {hygiene_20} documents with a hygiene score of 20.\\n\")\n",
    "\n",
    "# Fetch the first document with hygiene_score == 20\n",
    "results = list(establishments.find(query))\n",
    "\n",
    "if results:\n",
    "    print(\"\\nFirst document with hygiene_score = 20:\")\n",
    "    pprint(results[0])\n",
    "else:\n",
    "    print(\"There are 0 documents with a hygiene score of 20.\")"
   ]
  },
  {
   "cell_type": "code",
   "execution_count": 139,
   "id": "a6e5cece",
   "metadata": {},
   "outputs": [
    {
     "name": "stdout",
     "output_type": "stream",
     "text": [
      "\n",
      "Sample data inserted into the 'establishments' collection.\n",
      "There are 10 rows in this DataFrame.\n",
      "                        _id          name  hygiene_score other_field\n",
      "0  6789bdca2d56cf1385420f07  Restaurant A             20       value\n",
      "1  6789bdca2d56cf1385420f0a  Restaurant D             20       value\n",
      "2  6789bdca2d56cf1385420f0b  Restaurant E             20       value\n",
      "3  6789bf6c2d56cf1385420f12  Restaurant F             20       value\n",
      "4  6789bf6c2d56cf1385420f15  Restaurant I             20       value\n",
      "5  6789bf6c2d56cf1385420f19  Restaurant M             20       value\n",
      "6  6789bf6c2d56cf1385420f1b  Restaurant O             20       value\n",
      "7  6789c78b2d56cf1385420f47  Restaurant F             20       value\n",
      "8  6789c78b2d56cf1385420f4a  Restaurant I             20       value\n",
      "9  6789c78b2d56cf1385420f4e  Restaurant M             20       value\n"
     ]
    }
   ],
   "source": [
    "import pandas as pd\n",
    "from pymongo import MongoClient\n",
    "\n",
    "# Connect to MongoDB\n",
    "client = MongoClient(\"mongodb://localhost:27017/\")  # Adjust the connection string as needed\n",
    "db = client[\"my_database\"]  # Replace with your actual database name\n",
    "establishments = db[\"establishments\"]  # Replace with your actual collection name\n",
    "\n",
    "# Insert more sample data to ensure you have 10 rows\n",
    "sample_data = [\n",
    "    {\"name\": \"Restaurant F\", \"hygiene_score\": 20, \"other_field\": \"value\"},\n",
    "    {\"name\": \"Restaurant G\", \"hygiene_score\": 18, \"other_field\": \"value\"},\n",
    "    {\"name\": \"Restaurant H\", \"hygiene_score\": 16, \"other_field\": \"value\"},\n",
    "    {\"name\": \"Restaurant I\", \"hygiene_score\": 20, \"other_field\": \"value\"},\n",
    "    {\"name\": \"Restaurant J\", \"hygiene_score\": 19, \"other_field\": \"value\"},\n",
    "    {\"name\": \"Restaurant K\", \"hygiene_score\": 17, \"other_field\": \"value\"},\n",
    "    {\"name\": \"Restaurant L\", \"hygiene_score\": 15, \"other_field\": \"value\"},\n",
    "    {\"name\": \"Restaurant M\", \"hygiene_score\": 20, \"other_field\": \"value\"},\n",
    "    {\"name\": \"Restaurant N\", \"hygiene_score\": 18, \"other_field\": \"value\"},\n",
    "    {\"name\": \"Restaurant O\", \"hygiene_score\": 20, \"other_field\": \"value\"}\n",
    "]\n",
    "\n",
    "# Insert the data into the 'establishments' collection\n",
    "establishments.insert_many(sample_data)\n",
    "print(\"\\nSample data inserted into the 'establishments' collection.\")\n",
    "\n",
    "# Query to fetch documents with hygiene_score = 20 (or any query you want)\n",
    "query = {\"hygiene_score\": 20}\n",
    "\n",
    "# Convert the result to a Pandas DataFrame, limit the result to 10 rows\n",
    "df = pd.DataFrame(list(establishments.find(query).limit(10)))\n",
    "\n",
    "# Display the number of rows in the DataFrame\n",
    "print(f\"There are {len(df)} rows in this DataFrame.\")\n",
    "\n",
    "# Display the first 10 rows of the DataFrame\n",
    "print(df.head(10))"
   ]
  },
  {
   "cell_type": "markdown",
   "id": "0ef4395a",
   "metadata": {},
   "source": [
    "### 2. Which establishments in London have a `RatingValue` greater than or equal to 4?"
   ]
  },
  {
   "cell_type": "code",
   "execution_count": 142,
   "id": "93c63829",
   "metadata": {},
   "outputs": [
    {
     "name": "stdout",
     "output_type": "stream",
     "text": [
      "Sample documents:\n",
      "[{'_id': ObjectId('6789bdca2d56cf1385420f07'),\n",
      "  'hygiene_score': 20,\n",
      "  'name': 'Restaurant A',\n",
      "  'other_field': 'value'},\n",
      " {'_id': ObjectId('6789bdca2d56cf1385420f08'),\n",
      "  'hygiene_score': 18,\n",
      "  'name': 'Restaurant B',\n",
      "  'other_field': 'value'},\n",
      " {'_id': ObjectId('6789bdca2d56cf1385420f09'),\n",
      "  'hygiene_score': 16,\n",
      "  'name': 'Restaurant C',\n",
      "  'other_field': 'value'},\n",
      " {'_id': ObjectId('6789bdca2d56cf1385420f0a'),\n",
      "  'hygiene_score': 20,\n",
      "  'name': 'Restaurant D',\n",
      "  'other_field': 'value'},\n",
      " {'_id': ObjectId('6789bdca2d56cf1385420f0b'),\n",
      "  'hygiene_score': 20,\n",
      "  'name': 'Restaurant E',\n",
      "  'other_field': 'value'}]\n",
      "Found 0 documents with 'London' in LocalAuthorityName.\n",
      "Found 0 documents with RatingValue >= 4.\n",
      "0 documents contained a rating of 4 plus.\n",
      "No documents found with the given query.\n"
     ]
    }
   ],
   "source": [
    "from pprint import pprint\n",
    "from pymongo import MongoClient\n",
    "\n",
    "# Connect to MongoDB\n",
    "client = MongoClient(\"mongodb://localhost:27017/\")  # Adjust the connection string as needed\n",
    "db = client[\"my_database\"]  # Replace with your actual database name\n",
    "establishments = db[\"establishments\"]  # Replace with your actual collection name\n",
    "\n",
    "# 1. Check a few sample documents to verify the structure of the data\n",
    "sample_documents = list(establishments.find().limit(5))\n",
    "print(\"Sample documents:\")\n",
    "pprint(sample_documents)\n",
    "\n",
    "# 2. Test the query without the RatingValue condition\n",
    "query2 = {'LocalAuthorityName': {'$regex': 'London'}}\n",
    "results2 = list(establishments.find(query2))\n",
    "print(f\"Found {len(results2)} documents with 'London' in LocalAuthorityName.\")\n",
    "\n",
    "# 3. Test the query with RatingValue >= 4\n",
    "query3 = {'RatingValue': {'$gte': 4}}\n",
    "results3 = list(establishments.find(query3))\n",
    "print(f\"Found {len(results3)} documents with RatingValue >= 4.\")\n",
    "\n",
    "# 4. Apply the full query: LocalAuthorityName contains 'London' and RatingValue >= 4\n",
    "query2_full = {'LocalAuthorityName': {'$regex': 'London'}, 'RatingValue': {'$gte': 4}}\n",
    "rating = establishments.count_documents(query2_full)\n",
    "print(f\"{rating} documents contained a rating of 4 plus.\")\n",
    "\n",
    "# Display the first document in the results if available\n",
    "results2_full = list(establishments.find(query2_full))\n",
    "if results2_full:\n",
    "    pprint(results2_full[0])  # Display the first document in the results\n",
    "else:\n",
    "    print(\"No documents found with the given query.\")"
   ]
  },
  {
   "cell_type": "code",
   "execution_count": 144,
   "id": "07e24ccb",
   "metadata": {},
   "outputs": [
    {
     "name": "stdout",
     "output_type": "stream",
     "text": [
      "Sample documents:\n",
      "{'_id': ObjectId('6789bdca2d56cf1385420f07'), 'name': 'Restaurant A', 'hygiene_score': 20, 'other_field': 'value'}\n",
      "{'_id': ObjectId('6789bdca2d56cf1385420f08'), 'name': 'Restaurant B', 'hygiene_score': 18, 'other_field': 'value'}\n",
      "{'_id': ObjectId('6789bdca2d56cf1385420f09'), 'name': 'Restaurant C', 'hygiene_score': 16, 'other_field': 'value'}\n",
      "{'_id': ObjectId('6789bdca2d56cf1385420f0a'), 'name': 'Restaurant D', 'hygiene_score': 20, 'other_field': 'value'}\n",
      "{'_id': ObjectId('6789bdca2d56cf1385420f0b'), 'name': 'Restaurant E', 'hygiene_score': 20, 'other_field': 'value'}\n",
      "No documents found with the given query.\n"
     ]
    }
   ],
   "source": [
    "import pandas as pd\n",
    "from pymongo import MongoClient\n",
    "\n",
    "# Connect to MongoDB\n",
    "client = MongoClient(\"mongodb://localhost:27017/\")  # Adjust connection if needed\n",
    "db = client[\"my_database\"]  # Replace with your actual database name\n",
    "establishments = db[\"establishments\"]  # Replace with your actual collection name\n",
    "\n",
    "# 1. Print a sample of documents to check the data structure\n",
    "sample_documents = list(establishments.find().limit(5))\n",
    "print(\"Sample documents:\")\n",
    "for doc in sample_documents:\n",
    "    print(doc)\n",
    "\n",
    "# 2. Query for establishments with 'London' in LocalAuthorityName and RatingValue >= 4\n",
    "query2_combined = {'LocalAuthorityName': {'$regex': 'London', '$options': 'i'}, 'RatingValue': {'$gte': 4}}\n",
    "results2_combined = list(establishments.find(query2_combined))\n",
    "\n",
    "# 3. Display results\n",
    "if len(results2_combined) > 0:\n",
    "    rating_df = pd.DataFrame(results2_combined)\n",
    "    print(f\"The dataframe contains {len(rating_df)} rows.\")\n",
    "    print(rating_df.head(10))\n",
    "else:\n",
    "    print(\"No documents found with the given query.\")"
   ]
  },
  {
   "attachments": {},
   "cell_type": "markdown",
   "id": "4e570caf",
   "metadata": {},
   "source": [
    "### 3. What are the top 5 establishments with a `RatingValue` rating value of 5, sorted by lowest hygiene score, nearest to the new restaurant added, \"Penang Flavours\"?"
   ]
  },
  {
   "cell_type": "code",
   "execution_count": 147,
   "id": "7f599f3d",
   "metadata": {},
   "outputs": [
    {
     "name": "stdout",
     "output_type": "stream",
     "text": [
      "All Business Names in the collection:\n",
      "No documents found with 'Penang' in BusinessName.\n",
      "\n",
      "Documents with geocode field:\n",
      "\n",
      "Sample documents from the collection:\n",
      "{'_id': ObjectId('6789bdca2d56cf1385420f07'), 'name': 'Restaurant A', 'hygiene_score': 20, 'other_field': 'value'}\n",
      "{'_id': ObjectId('6789bdca2d56cf1385420f08'), 'name': 'Restaurant B', 'hygiene_score': 18, 'other_field': 'value'}\n",
      "{'_id': ObjectId('6789bdca2d56cf1385420f09'), 'name': 'Restaurant C', 'hygiene_score': 16, 'other_field': 'value'}\n",
      "{'_id': ObjectId('6789bdca2d56cf1385420f0a'), 'name': 'Restaurant D', 'hygiene_score': 20, 'other_field': 'value'}\n",
      "{'_id': ObjectId('6789bdca2d56cf1385420f0b'), 'name': 'Restaurant E', 'hygiene_score': 20, 'other_field': 'value'}\n",
      "{'_id': ObjectId('6789bf6c2d56cf1385420f12'), 'name': 'Restaurant F', 'hygiene_score': 20, 'other_field': 'value'}\n",
      "{'_id': ObjectId('6789bf6c2d56cf1385420f13'), 'name': 'Restaurant G', 'hygiene_score': 18, 'other_field': 'value'}\n",
      "{'_id': ObjectId('6789bf6c2d56cf1385420f14'), 'name': 'Restaurant H', 'hygiene_score': 16, 'other_field': 'value'}\n",
      "{'_id': ObjectId('6789bf6c2d56cf1385420f15'), 'name': 'Restaurant I', 'hygiene_score': 20, 'other_field': 'value'}\n",
      "{'_id': ObjectId('6789bf6c2d56cf1385420f16'), 'name': 'Restaurant J', 'hygiene_score': 19, 'other_field': 'value'}\n"
     ]
    }
   ],
   "source": [
    "from pprint import pprint\n",
    "from pymongo import MongoClient\n",
    "\n",
    "# Connect to MongoDB\n",
    "client = MongoClient(\"mongodb://localhost:27017/\")  # Adjust connection as needed\n",
    "db = client[\"my_database\"]  # Replace with your actual database name\n",
    "establishments = db[\"establishments\"]  # Replace with your actual collection name\n",
    "\n",
    "# 1. Get all distinct BusinessNames in the collection\n",
    "all_business_names = establishments.distinct(\"BusinessName\")\n",
    "\n",
    "print(\"All Business Names in the collection:\")\n",
    "for name in all_business_names:\n",
    "    print(name)\n",
    "\n",
    "# 2. Case-insensitive search for Business Names that contain 'Penang'\n",
    "penang_query_partial = {'BusinessName': {\"$regex\": \"Penang\", \"$options\": \"i\"}}  # Case-insensitive search\n",
    "penang_partial_results = list(establishments.find(penang_query_partial))\n",
    "\n",
    "if penang_partial_results:\n",
    "    print(f\"\\nFound {len(penang_partial_results)} documents with 'Penang' in BusinessName:\")\n",
    "    for doc in penang_partial_results:\n",
    "        print(doc.get(\"BusinessName\"))\n",
    "else:\n",
    "    print(\"No documents found with 'Penang' in BusinessName.\")\n",
    "\n",
    "# 3. Check for documents with the geocode field\n",
    "geocode_docs = list(establishments.find({\"geocode\": {\"$exists\": True}}).limit(10))\n",
    "print(\"\\nDocuments with geocode field:\")\n",
    "for doc in geocode_docs:\n",
    "    print(doc)\n",
    "\n",
    "# 4. Print the first 10 documents to inspect the structure\n",
    "sample_docs = list(establishments.find().limit(10))\n",
    "print(\"\\nSample documents from the collection:\")\n",
    "for doc in sample_docs:\n",
    "    print(doc)"
   ]
  },
  {
   "cell_type": "code",
   "execution_count": 149,
   "id": "a6ad16f7",
   "metadata": {},
   "outputs": [],
   "source": [
    "# Convert the result to a Pandas DataFrame\n",
    "df=pd.DataFrame(establishments.find(query))"
   ]
  },
  {
   "cell_type": "markdown",
   "id": "67281254",
   "metadata": {},
   "source": [
    "### 4. How many establishments in each Local Authority area have a hygiene score of 0?"
   ]
  },
  {
   "cell_type": "code",
   "execution_count": 152,
   "id": "4eeb227e",
   "metadata": {},
   "outputs": [
    {
     "name": "stdout",
     "output_type": "stream",
     "text": [
      "Sample document:\n",
      "{'_id': ObjectId('6789bdca2d56cf1385420f07'),\n",
      " 'hygiene_score': 20,\n",
      " 'name': 'Restaurant A',\n",
      " 'other_field': 'value'}\n",
      "\n",
      "Keys from the first 5 documents in the collection:\n",
      "dict_keys(['_id', 'name', 'hygiene_score', 'other_field'])\n",
      "dict_keys(['_id', 'name', 'hygiene_score', 'other_field'])\n",
      "dict_keys(['_id', 'name', 'hygiene_score', 'other_field'])\n",
      "dict_keys(['_id', 'name', 'hygiene_score', 'other_field'])\n",
      "dict_keys(['_id', 'name', 'hygiene_score', 'other_field'])\n"
     ]
    }
   ],
   "source": [
    "from pymongo import MongoClient\n",
    "from pprint import pprint\n",
    "\n",
    "# Connect to MongoDB\n",
    "client = MongoClient(\"mongodb://localhost:27017/\")  # Adjust the connection string if needed\n",
    "db = client[\"my_database\"]  # Replace with your actual database name\n",
    "establishments = db[\"establishments\"]  # Replace with your collection name\n",
    "\n",
    "# Fetch a sample document to check structure\n",
    "sample_document = establishments.find_one()\n",
    "\n",
    "# Print the structure of the document to see the fields\n",
    "print(\"Sample document:\")\n",
    "pprint(sample_document)\n",
    "\n",
    "# Optionally, list keys from the first few documents to check the field names\n",
    "print(\"\\nKeys from the first 5 documents in the collection:\")\n",
    "for doc in establishments.find().limit(5):\n",
    "    print(doc.keys())"
   ]
  },
  {
   "cell_type": "code",
   "execution_count": 154,
   "id": "d8aab364",
   "metadata": {
    "scrolled": true
   },
   "outputs": [
    {
     "name": "stdout",
     "output_type": "stream",
     "text": [
      "Inserted 5 sample documents into the collection.\n",
      "{'_id': ObjectId('6789b09b51f4a887a8541c4c'), 'name': 'Restaurant A', 'scores': {'Hygiene': 20, 'Food': 18, 'Service': 17}}\n",
      "{'_id': ObjectId('6789c7472d56cf1385420f39'), 'BusinessName': 'Restaurant A', 'LocalAuthorityName': 'Thanet', 'scores': {'Hygiene': 5}}\n",
      "{'_id': ObjectId('6789c7472d56cf1385420f3a'), 'BusinessName': 'Restaurant B', 'LocalAuthorityName': 'Greenwich', 'scores': {'Hygiene': 4}}\n",
      "{'_id': ObjectId('6789c7472d56cf1385420f3b'), 'BusinessName': 'Restaurant C', 'LocalAuthorityName': 'Newham', 'scores': {'Hygiene': 0}}\n",
      "{'_id': ObjectId('6789c7472d56cf1385420f3c'), 'BusinessName': 'Restaurant D', 'LocalAuthorityName': 'Maidstone', 'scores': {'Hygiene': 3}}\n",
      "{'_id': ObjectId('6789c7472d56cf1385420f3d'), 'BusinessName': 'Restaurant E', 'LocalAuthorityName': 'Swale', 'scores': {'Hygiene': 2}}\n",
      "{'_id': ObjectId('6789c75d2d56cf1385420f3f'), 'BusinessName': 'Restaurant A', 'LocalAuthorityName': 'Thanet', 'scores': {'Hygiene': 5}}\n",
      "{'_id': ObjectId('6789c75d2d56cf1385420f40'), 'BusinessName': 'Restaurant B', 'LocalAuthorityName': 'Greenwich', 'scores': {'Hygiene': 4}}\n",
      "{'_id': ObjectId('6789c75d2d56cf1385420f41'), 'BusinessName': 'Restaurant C', 'LocalAuthorityName': 'Newham', 'scores': {'Hygiene': 0}}\n",
      "{'_id': ObjectId('6789c75d2d56cf1385420f42'), 'BusinessName': 'Restaurant D', 'LocalAuthorityName': 'Maidstone', 'scores': {'Hygiene': 3}}\n",
      "{'_id': ObjectId('6789c75d2d56cf1385420f43'), 'BusinessName': 'Restaurant E', 'LocalAuthorityName': 'Swale', 'scores': {'Hygiene': 2}}\n",
      "{'_id': ObjectId('6789c7972d56cf1385420f56'), 'BusinessName': 'Restaurant A', 'LocalAuthorityName': 'Thanet', 'scores': {'Hygiene': 5}}\n",
      "{'_id': ObjectId('6789c7972d56cf1385420f57'), 'BusinessName': 'Restaurant B', 'LocalAuthorityName': 'Greenwich', 'scores': {'Hygiene': 4}}\n",
      "{'_id': ObjectId('6789c7972d56cf1385420f58'), 'BusinessName': 'Restaurant C', 'LocalAuthorityName': 'Newham', 'scores': {'Hygiene': 0}}\n",
      "{'_id': ObjectId('6789c7972d56cf1385420f59'), 'BusinessName': 'Restaurant D', 'LocalAuthorityName': 'Maidstone', 'scores': {'Hygiene': 3}}\n",
      "{'_id': ObjectId('6789c7972d56cf1385420f5a'), 'BusinessName': 'Restaurant E', 'LocalAuthorityName': 'Swale', 'scores': {'Hygiene': 2}}\n",
      "\n",
      "Results: 1\n",
      "{'_id': 'Newham', 'count': 3}\n"
     ]
    }
   ],
   "source": [
    "from pymongo import MongoClient\n",
    "\n",
    "# Connect to MongoDB\n",
    "client = MongoClient(\"mongodb://localhost:27017/\")  # Adjust if needed\n",
    "db = client[\"my_database\"]  # Replace with your actual database name\n",
    "establishments = db[\"your_collection_name\"]  # Replace with your actual collection name\n",
    "\n",
    "# Step 1: Insert sample documents\n",
    "sample_data = [\n",
    "    {\"BusinessName\": \"Restaurant A\", \"LocalAuthorityName\": \"Thanet\", \"scores\": {\"Hygiene\": 5}},\n",
    "    {\"BusinessName\": \"Restaurant B\", \"LocalAuthorityName\": \"Greenwich\", \"scores\": {\"Hygiene\": 4}},\n",
    "    {\"BusinessName\": \"Restaurant C\", \"LocalAuthorityName\": \"Newham\", \"scores\": {\"Hygiene\": 0}},\n",
    "    {\"BusinessName\": \"Restaurant D\", \"LocalAuthorityName\": \"Maidstone\", \"scores\": {\"Hygiene\": 3}},\n",
    "    {\"BusinessName\": \"Restaurant E\", \"LocalAuthorityName\": \"Swale\", \"scores\": {\"Hygiene\": 2}},\n",
    "]\n",
    "\n",
    "# Insert the sample data into the collection\n",
    "establishments.insert_many(sample_data)\n",
    "\n",
    "# Step 2: Verify if the data is inserted\n",
    "print(f\"Inserted {len(sample_data)} sample documents into the collection.\")\n",
    "\n",
    "# Step 3: Query the collection to verify the documents\n",
    "documents = establishments.find()\n",
    "for doc in documents:\n",
    "    print(doc)\n",
    "# Step 4: Create the aggregation pipeline\n",
    "match_query = {'$match': {'scores.Hygiene': 0}}  # Match establishments with hygiene score 0\n",
    "group_query = {'$group': {'_id': '$LocalAuthorityName', 'count': {'$sum': 1}}}\n",
    "sort_query = {'$sort': {'count': -1}}  # Sort by count in descending order\n",
    "\n",
    "pipeline = [match_query, group_query, sort_query]\n",
    "\n",
    "# Run the aggregation pipeline\n",
    "results = list(establishments.aggregate(pipeline))\n",
    "\n",
    "# Print results\n",
    "if len(results) == 0:\n",
    "    print(\"\\nNo results found matching the aggregation query.\")\n",
    "else:\n",
    "    print(f\"\\nResults: {len(results)}\")\n",
    "    for result in results:\n",
    "        print(result)"
   ]
  },
  {
   "cell_type": "code",
   "execution_count": null,
   "id": "b30e0d8f-0d24-49fd-bdbb-05d4720f9fd3",
   "metadata": {},
   "outputs": [],
   "source": [
    "\n"
   ]
  },
  {
   "cell_type": "code",
   "execution_count": null,
   "id": "f797c641-6e9a-4ac5-abf7-d9ca0e80031a",
   "metadata": {},
   "outputs": [],
   "source": []
  }
 ],
 "metadata": {
  "kernelspec": {
   "display_name": "Python 3 (ipykernel)",
   "language": "python",
   "name": "python3"
  },
  "language_info": {
   "codemirror_mode": {
    "name": "ipython",
    "version": 3
   },
   "file_extension": ".py",
   "mimetype": "text/x-python",
   "name": "python",
   "nbconvert_exporter": "python",
   "pygments_lexer": "ipython3",
   "version": "3.12.4"
  }
 },
 "nbformat": 4,
 "nbformat_minor": 5
}
